{
 "cells": [
  {
   "cell_type": "markdown",
   "id": "6e30147c",
   "metadata": {
    "papermill": {
     "duration": 0.005316,
     "end_time": "2024-06-12T23:03:57.552203",
     "exception": false,
     "start_time": "2024-06-12T23:03:57.546887",
     "status": "completed"
    },
    "tags": []
   },
   "source": [
    "Looking at the the tasks from the [Abstraction and Reasoning Corpus](https://github.com/fchollet/ARC), while each task is unique, it is clear that there are certain concepts, such as operations like rotation or mirroring, that occur repeatedly throughout the corpus. What seems feasible is to think of a set of building blocks that encapsulate those concepts that can then be used to build solution programs, that is, task-specific programs that correctly transform each of the input grids of a given task into its corresponding output grid. Such a set of building blocks is a form of domain-specific language (DSL). A DSL defines a set of programs that it can express, and the process of finding or creating such a program solving a given task is a form of program synthesis. Building a good DSL that well captures the explicitly stated core knowledge priors of ARC in an abstract and combinable manner, combined with an adequate program synthesis approach is suggested as a possible way to tackling ARC by its creator François in [On the Measure of Intelligence](https://arxiv.org/abs/1911.01547)."
   ]
  },
  {
   "cell_type": "markdown",
   "id": "8b039850",
   "metadata": {
    "papermill": {
     "duration": 0.004668,
     "end_time": "2024-06-12T23:03:57.561903",
     "exception": false,
     "start_time": "2024-06-12T23:03:57.557235",
     "status": "completed"
    },
    "tags": []
   },
   "source": [
    "This notebook presents a very simple such DSL tailored to ARC and how it can be used to perform program synthesis, intended to serve as a starting point for anyone new to the ARC benchmark. For the sake of demonstration, the DSL as well as the program synthesis are overly simplistic here, to the point of being naive, as will be demonstrated. First, the DSL is defined as some basic functions, also called primitives, that transform grids. Second, program synthesis as search over compositions of those primitives is performed. The search is naive in that it is a brute force search over all possible primitive compositions up to a certain depth that is done for each task and simply uses the first program it finds to solve the training examples to make predictions for the test examples."
   ]
  },
  {
   "cell_type": "code",
   "execution_count": 1,
   "id": "1730e57b",
   "metadata": {
    "papermill": {
     "duration": 0.034883,
     "end_time": "2024-06-12T23:03:57.601690",
     "exception": false,
     "start_time": "2024-06-12T23:03:57.566807",
     "status": "completed"
    },
    "tags": []
   },
   "outputs": [],
   "source": [
    "%load_ext autoreload\n",
    "%autoreload 2"
   ]
  },
  {
   "cell_type": "code",
   "execution_count": 2,
   "id": "8c66654a",
   "metadata": {
    "papermill": {
     "duration": 0.028644,
     "end_time": "2024-06-12T23:03:57.635381",
     "exception": false,
     "start_time": "2024-06-12T23:03:57.606737",
     "status": "completed"
    },
    "tags": []
   },
   "outputs": [],
   "source": [
    "import os\n",
    "import json\n",
    "import tqdm\n",
    "import itertools\n",
    "\n",
    "from random import sample\n",
    "\n",
    "import matplotlib.pyplot as plt\n",
    "from matplotlib.colors import ListedColormap, Normalize"
   ]
  },
  {
   "cell_type": "code",
   "execution_count": 3,
   "id": "52124e39",
   "metadata": {
    "papermill": {
     "duration": 0.13713,
     "end_time": "2024-06-12T23:03:57.777521",
     "exception": false,
     "start_time": "2024-06-12T23:03:57.640391",
     "status": "completed"
    },
    "tags": []
   },
   "outputs": [],
   "source": [
    "test_challenges_path = './arc-prize-2024/arc-agi_test_challenges.json'\n",
    "train_challenges_path = './arc-prize-2024/arc-agi_training_challenges.json'\n",
    "train_solutions_path = './arc-prize-2024/arc-agi_training_solutions.json'\n",
    "\n",
    "with open(test_challenges_path) as fp:\n",
    "    test_challenges = json.load(fp)\n",
    "with open(train_challenges_path) as fp:\n",
    "    train_challenges = json.load(fp)\n",
    "with open(train_solutions_path) as fp:\n",
    "    train_solutions = json.load(fp)"
   ]
  },
  {
   "cell_type": "code",
   "execution_count": 4,
   "id": "42b5ff62",
   "metadata": {
    "papermill": {
     "duration": 0.029443,
     "end_time": "2024-06-12T23:03:57.812057",
     "exception": false,
     "start_time": "2024-06-12T23:03:57.782614",
     "status": "completed"
    },
    "tags": []
   },
   "outputs": [],
   "source": [
    "def plot_task(task):\n",
    "    \"\"\" plots a task \"\"\"\n",
    "    examples = task['train']\n",
    "    n_examples = len(examples)\n",
    "    cmap = ListedColormap([\n",
    "        '#000', '#0074D9', '#FF4136', '#2ECC40', '#FFDC00',\n",
    "        '#AAAAAA', '#F012BE', '#FF851B', '#7FDBFF', '#870C25'\n",
    "    ])\n",
    "    norm = Normalize(vmin=0, vmax=9)\n",
    "    figure, axes = plt.subplots(2, n_examples, figsize=(n_examples * 4, 8))\n",
    "    for column, example in enumerate(examples):\n",
    "        axes[0, column].imshow(example['input'], cmap=cmap, norm=norm)\n",
    "        axes[1, column].imshow(example['output'], cmap=cmap, norm=norm)\n",
    "        axes[0, column].axis('off')\n",
    "        axes[1, column].axis('off')\n",
    "    plt.show()"
   ]
  },
  {
   "cell_type": "code",
   "execution_count": 5,
   "id": "2137756a",
   "metadata": {
    "papermill": {
     "duration": 0.030883,
     "end_time": "2024-06-12T23:03:57.848043",
     "exception": false,
     "start_time": "2024-06-12T23:03:57.817160",
     "status": "completed"
    },
    "tags": []
   },
   "outputs": [
    {
     "name": "stdout",
     "output_type": "stream",
     "text": [
      "DSL consists of 5 primitives: {'rot90', 'hmirror', 'compress', 'trim', 'tophalf'}\n"
     ]
    }
   ],
   "source": [
    "# defining a handful of basic primitives\n",
    "\n",
    "def tophalf(grid):\n",
    "    \"\"\" upper half \"\"\"\n",
    "    return grid[:len(grid) // 2]\n",
    "\n",
    "\n",
    "def rot90(grid):\n",
    "    \"\"\" clockwise rotation by 90 degrees \"\"\"\n",
    "    return list(zip(*grid[::-1]))\n",
    "\n",
    "\n",
    "def hmirror(grid):\n",
    "    \"\"\" mirroring along horizontal \"\"\"\n",
    "    return grid[::-1]\n",
    "\n",
    "\n",
    "def compress(grid):\n",
    "    \"\"\" removes frontiers \"\"\"\n",
    "    ri = [i for i, r in enumerate(grid) if len(set(r)) == 1]\n",
    "    ci = [j for j, c in enumerate(zip(*grid)) if len(set(c)) == 1]\n",
    "    return [[v for j, v in enumerate(r) if j not in ci] for i, r in enumerate(grid) if i not in ri]\n",
    "\n",
    "\n",
    "def trim(grid):\n",
    "    \"\"\" removes border \"\"\"\n",
    "    return [r[1:-1] for r in grid[1:-1]]\n",
    "\n",
    "\n",
    "# defining the DSL as the set of the primitives\n",
    "\n",
    "DSL_primitives = {tophalf, rot90, hmirror, compress, trim}\n",
    "primitive_names = {p.__name__ for p in DSL_primitives}\n",
    "print(f'DSL consists of {len(DSL_primitives)} primitives: {primitive_names}')"
   ]
  },
  {
   "cell_type": "code",
   "execution_count": 6,
   "id": "f3604783",
   "metadata": {
    "papermill": {
     "duration": 0.100904,
     "end_time": "2024-06-12T23:03:57.954131",
     "exception": false,
     "start_time": "2024-06-12T23:03:57.853227",
     "status": "completed"
    },
    "tags": []
   },
   "outputs": [
    {
     "name": "stdout",
     "output_type": "stream",
     "text": [
      "Space to search consists of 780 programs:\n",
      "\n",
      "lambda grid: rot90(grid)\n",
      "lambda grid: hmirror(grid)\n",
      "lambda grid: compress(grid)\n",
      "lambda grid: trim(grid)\n",
      "lambda grid: tophalf(grid)\n",
      "lambda grid: rot90(rot90(grid))\n",
      "lambda grid: rot90(hmirror(grid))\n",
      "lambda grid: rot90(compress(grid))\n",
      "lambda grid: rot90(trim(grid))\n",
      "lambda grid: rot90(tophalf(grid))\n",
      "...\n"
     ]
    }
   ],
   "source": [
    "# the maximum composition depth to consider\n",
    "MAX_DEPTH = 4\n",
    "\n",
    "# construct the program strings of all programs expressible by composing at most MAX_DEPTH primitives\n",
    "\n",
    "program_strings = []\n",
    "for depth in range(1, MAX_DEPTH+1):\n",
    "    primitive_tuples = itertools.product(*[primitive_names]*depth)\n",
    "    for primitives in primitive_tuples:\n",
    "        left_side = \"\".join([p + \"(\" for p in primitives])\n",
    "        right_side = ')' * depth\n",
    "        program_string = f'lambda grid: {left_side}grid{right_side}'\n",
    "        program_strings.append(program_string)\n",
    "\n",
    "\n",
    "# print some of the program strings\n",
    "print(f'Space to search consists of {len(program_strings)} programs:\\n')\n",
    "print('\\n'.join([*program_strings[:10], '...']))\n",
    "\n",
    "\n",
    "# map program strings to programs\n",
    "programs = {prog_str: eval(prog_str) for prog_str in program_strings}"
   ]
  },
  {
   "cell_type": "code",
   "execution_count": 7,
   "id": "82bd05b4",
   "metadata": {
    "papermill": {
     "duration": 22.401649,
     "end_time": "2024-06-12T23:04:20.360813",
     "exception": false,
     "start_time": "2024-06-12T23:03:57.959164",
     "status": "completed"
    },
    "tags": []
   },
   "outputs": [
    {
     "name": "stderr",
     "output_type": "stream",
     "text": [
      "  8%|██████▋                                                                          | 33/400 [00:01<00:12, 29.35it/s]"
     ]
    },
    {
     "name": "stdout",
     "output_type": "stream",
     "text": [
      "found 11 candidate programs for task 1cf80156!\n"
     ]
    },
    {
     "name": "stderr",
     "output_type": "stream",
     "text": [
      " 40%|███████████████████████████████▌                                                | 158/400 [00:05<00:07, 34.27it/s]"
     ]
    },
    {
     "name": "stdout",
     "output_type": "stream",
     "text": [
      "found 16 candidate programs for task 68b16354!\n"
     ]
    },
    {
     "name": "stderr",
     "output_type": "stream",
     "text": [
      " 45%|████████████████████████████████████                                            | 180/400 [00:06<00:07, 30.54it/s]"
     ]
    },
    {
     "name": "stdout",
     "output_type": "stream",
     "text": [
      "found 3 candidate programs for task 7468f01a!\n"
     ]
    },
    {
     "name": "stderr",
     "output_type": "stream",
     "text": [
      " 60%|████████████████████████████████████████████████▍                               | 242/400 [00:08<00:04, 32.73it/s]"
     ]
    },
    {
     "name": "stdout",
     "output_type": "stream",
     "text": [
      "found 4 candidate programs for task 9dfd6313!\n"
     ]
    },
    {
     "name": "stderr",
     "output_type": "stream",
     "text": [
      "100%|████████████████████████████████████████████████████████████████████████████████| 400/400 [00:13<00:00, 29.35it/s]"
     ]
    },
    {
     "name": "stdout",
     "output_type": "stream",
     "text": [
      "\n",
      "Made guesses for 4 tasks\n"
     ]
    },
    {
     "name": "stderr",
     "output_type": "stream",
     "text": [
      "\n"
     ]
    }
   ],
   "source": [
    "# for each task, search over the programs and if a working program is found, remember it\n",
    "\n",
    "guesses = dict()\n",
    "# iterate over all tasks\n",
    "for key, task in tqdm.tqdm(train_challenges.items()):\n",
    "    train_inputs = [example['input'] for example in task['train']]\n",
    "    train_outputs = [example['output'] for example in task['train']]\n",
    "    hypotheses = []\n",
    "    # iterate over all programs\n",
    "    for program_string, program in programs.items():\n",
    "        try:\n",
    "            if all([program(i) == o for i, o in zip(train_inputs, train_outputs)]):\n",
    "                # remember program if it explains all training examples\n",
    "                hypotheses.append(program_string)\n",
    "        except:\n",
    "            pass\n",
    "    # select first program for making predictions\n",
    "    if len(hypotheses) > 0:\n",
    "        print(f'found {len(hypotheses)} candidate programs for task {key}!')\n",
    "        guesses[key] = hypotheses[0]\n",
    "print(f'\\nMade guesses for {len(guesses)} tasks')"
   ]
  },
  {
   "cell_type": "code",
   "execution_count": 8,
   "id": "0504b6fe",
   "metadata": {
    "papermill": {
     "duration": 0.035528,
     "end_time": "2024-06-12T23:04:20.410477",
     "exception": false,
     "start_time": "2024-06-12T23:04:20.374949",
     "status": "completed"
    },
    "tags": []
   },
   "outputs": [
    {
     "name": "stdout",
     "output_type": "stream",
     "text": [
      "Predictions correct for 4/4 tasks\n"
     ]
    }
   ],
   "source": [
    "# make predictions and evaluate them\n",
    "\n",
    "solved = dict()\n",
    "\n",
    "# iterate over all tasks for which a guess exists\n",
    "for key, program_string in guesses.items():\n",
    "    test_inputs = [example['input'] for example in train_challenges[key]['test']]\n",
    "    program = eval(program_string)\n",
    "    if all([program(i) == o for i, o in zip(test_inputs, train_solutions[key])]):\n",
    "        # mark predition as correct if all test examples are solved by the program\n",
    "        solved[key] = program_string\n",
    "\n",
    "\n",
    "print(f'Predictions correct for {len(solved)}/{len(guesses)} tasks')"
   ]
  },
  {
   "cell_type": "code",
   "execution_count": 10,
   "id": "037cd3af",
   "metadata": {
    "papermill": {
     "duration": 1.134855,
     "end_time": "2024-06-12T23:04:21.560410",
     "exception": false,
     "start_time": "2024-06-12T23:04:20.425555",
     "status": "completed"
    },
    "tags": []
   },
   "outputs": [
    {
     "name": "stdout",
     "output_type": "stream",
     "text": [
      "For task \"1cf80156\", found program \"lambda grid: compress(grid)\"\n"
     ]
    },
    {
     "data": {
      "image/png": "[encoded data removed]",
      "text/plain": [
       "<Figure size 1200x800 with 6 Axes>"
      ]
     },
     "metadata": {},
     "output_type": "display_data"
    },
    {
     "name": "stdout",
     "output_type": "stream",
     "text": [
      "For task \"68b16354\", found program \"lambda grid: hmirror(grid)\"\n"
     ]
    },
    {
     "data": {
      "image/png": "[encoded data removed]",
      "text/plain": [
       "<Figure size 1200x800 with 6 Axes>"
      ]
     },
     "metadata": {},
     "output_type": "display_data"
    },
    {
     "name": "stdout",
     "output_type": "stream",
     "text": [
      "For task \"7468f01a\", found program \"lambda grid: hmirror(compress(rot90(rot90(grid))))\"\n"
     ]
    },
    {
     "data": {
      "image/png": "[encoded data removed]",
      "text/plain": [
       "<Figure size 1200x800 with 6 Axes>"
      ]
     },
     "metadata": {},
     "output_type": "display_data"
    },
    {
     "name": "stdout",
     "output_type": "stream",
     "text": [
      "For task \"9dfd6313\", found program \"lambda grid: compress(rot90(hmirror(grid)))\"\n"
     ]
    },
    {
     "data": {
      "image/png": "[encoded data removed]",
      "text/plain": [
       "<Figure size 1200x800 with 6 Axes>"
      ]
     },
     "metadata": {},
     "output_type": "display_data"
    }
   ],
   "source": [
    "# visualize solved tasks\n",
    "for key, program_string in solved.items():\n",
    "    print(f'For task \"{key}\", found program \"{program_string}\"')\n",
    "    plot_task(train_challenges[key])"
   ]
  },
  {
   "cell_type": "markdown",
   "id": "5fcc1f8f",
   "metadata": {
    "papermill": {
     "duration": 0.015745,
     "end_time": "2024-06-12T23:04:21.592482",
     "exception": false,
     "start_time": "2024-06-12T23:04:21.576737",
     "status": "completed"
    },
    "tags": []
   },
   "source": [
    "While this code runs extremely fast (considering 400 tasks in less than 10 seconds), it also performs extremely poor (solving only 4/400 tasks, giving a mere 1% accuracy). How could it be improved? What can be learned from it? There are at least two issues with the above approach to searching a space of programs expressible in a DSL: First, the DSL provided here is not very expressive in that for most tasks, no program that solves it exists in the set of all possible programs buildable in the DSL. Second, even if sufficient expressivity is guaranteed (e.g. via a turing-complete DSL), for which by definition there would exist solution programs to each task, such programs may in practice either not be discoverable in the first place or not detectable as correct programs."
   ]
  },
  {
   "cell_type": "markdown",
   "id": "d32e5e3e",
   "metadata": {
    "papermill": {
     "duration": 0.014325,
     "end_time": "2024-06-12T23:04:21.621711",
     "exception": false,
     "start_time": "2024-06-12T23:04:21.607386",
     "status": "completed"
    },
    "tags": []
   },
   "source": [
    "### Increasing DSL Expressivity\n",
    "It is obvious why some tasks can't be solved by the above DSL, but one simple proof would be the following: No primitive ever increases the pixel count of a grid, hence neither can any composition of the primitives ever do so - and since for certain tasks, the output grids do have more pixels than the input grids, the DSL is incomplete. To increase the expressibity of the program space (disregarding the maximum program size), one will want to expand the set of the primitives and also extend the structure of the considered programs beyond mere composition. Maybe it is a good idea to have primitives which take more than one input argument, or primitives that operate on types other than only grids, such as objects or integers. Note that viewing the transformations from inputs to outputs as a linear function composition is very misleading, as many tasks can't be neatly squeezed into this form: Some tasks seem much better addressed on a pixel- or object-level than on a grid-level. A good DSL is probably concise and allows expressing solutions to many tasks as short programs. Such a DSL may best be built by bootstrapping, that is, building a minimal version of it and then iterating back and forth between using it to solve ARC tasks and expanding it to account for unsolvable ARC tasks, all while having abstractness and flexibility of the primitives and how they can interplay in mind."
   ]
  },
  {
   "cell_type": "code",
   "execution_count": 11,
   "id": "538cb5fa",
   "metadata": {
    "papermill": {
     "duration": 0.290484,
     "end_time": "2024-06-12T23:04:21.926682",
     "exception": false,
     "start_time": "2024-06-12T23:04:21.636198",
     "status": "completed"
    },
    "tags": []
   },
   "outputs": [
    {
     "data": {
      "image/png": "[encoded data removed]",
      "text/plain": [
       "<Figure size 1200x800 with 6 Axes>"
      ]
     },
     "metadata": {},
     "output_type": "display_data"
    }
   ],
   "source": [
    "# example of task where above DSL is ill-suited and e.g. an object-centric view could be more appropriate.\n",
    "# Potentially useful primitives: object extraction, property detection (has 6 pixels) and transformations (recolor)\n",
    "plot_task(train_challenges['d2abd087'])"
   ]
  },
  {
   "cell_type": "code",
   "execution_count": 12,
   "id": "a89ed072",
   "metadata": {
    "papermill": {
     "duration": 0.297444,
     "end_time": "2024-06-12T23:04:22.242384",
     "exception": false,
     "start_time": "2024-06-12T23:04:21.944940",
     "status": "completed"
    },
    "tags": []
   },
   "outputs": [
    {
     "data": {
      "image/png": "[encoded data removed]",
      "text/plain": [
       "<Figure size 1200x800 with 6 Axes>"
      ]
     },
     "metadata": {},
     "output_type": "display_data"
    }
   ],
   "source": [
    "# example of task where above DSL is ill-suited and e.g. a more pixel-centric view could be more appropriate.\n",
    "# Potentially useful: cellular automata\n",
    "plot_task(train_challenges['3906de3d'])"
   ]
  },
  {
   "cell_type": "markdown",
   "id": "d373b148",
   "metadata": {
    "papermill": {
     "duration": 0.014726,
     "end_time": "2024-06-12T23:04:22.274966",
     "exception": false,
     "start_time": "2024-06-12T23:04:22.260240",
     "status": "completed"
    },
    "tags": []
   },
   "source": [
    "### Increasing Search Efficiency\n",
    "To increase the efficiency of the search for programs, it is crucial to avoid a brute force search, as it very quickly becomes entirely infeasible as the size of the programs and the number of primitives grow: Even for a simplistic DSL where the primitives can only interact with each other via composition, if it consists of p primitives and one wants to check all programs up to depth d, the number of programs to consider with grow on the order of $p^d$."
   ]
  },
  {
   "cell_type": "markdown",
   "id": "fcb97711",
   "metadata": {
    "papermill": {
     "duration": 0.014904,
     "end_time": "2024-06-12T23:04:22.304987",
     "exception": false,
     "start_time": "2024-06-12T23:04:22.290083",
     "status": "completed"
    },
    "tags": []
   },
   "source": [
    "Naively, \"pruning the search space\" or avoiding considering primitives or subprograms unlikely useful for a solution program could be addressed by building heuristics into the search, e.g. \"whenever the output grid is always of the same size as the input grid for all training examples, don't consider grid rescaling operations during the search\". However, not only would such an approach be extremely labour-intensive, but also likely prone to result in a brittle and static system that would performs poorly. Maybe the navigation of the search space is something that can or even should be learned, not hardcoded."
   ]
  },
  {
   "cell_type": "code",
   "execution_count": 13,
   "id": "d50a52ec",
   "metadata": {
    "papermill": {
     "duration": 0.035948,
     "end_time": "2024-06-12T23:04:22.355995",
     "exception": false,
     "start_time": "2024-06-12T23:04:22.320047",
     "status": "completed"
    },
    "tags": []
   },
   "outputs": [
    {
     "name": "stdout",
     "output_type": "stream",
     "text": [
      "DSL with 8 primitives and max. depth 2 allows > 64 programs\n",
      "DSL with 16 primitives and max. depth 2 allows > 256 programs\n",
      "DSL with 32 primitives and max. depth 2 allows > 1024 programs\n",
      "DSL with 8 primitives and max. depth 4 allows > 4096 programs\n",
      "DSL with 16 primitives and max. depth 4 allows > 65536 programs\n",
      "DSL with 32 primitives and max. depth 4 allows > 1048576 programs\n",
      "DSL with 8 primitives and max. depth 8 allows > 16777216 programs\n",
      "DSL with 16 primitives and max. depth 8 allows > 4294967296 programs\n",
      "DSL with 32 primitives and max. depth 8 allows > 1099511627776 programs\n"
     ]
    }
   ],
   "source": [
    "# some calculations on infeasibility of brute force search\n",
    "pd_arr = [(p, d) for p in [8, 16, 32] for d in [2, 4, 8]]\n",
    "for p, d in sorted(pd_arr, key=lambda pd: pd[0]**pd[1]):\n",
    "    print(f'DSL with {p} primitives and max. depth {d} allows > {p**d} programs')"
   ]
  },
  {
   "cell_type": "markdown",
   "id": "d17d2da5",
   "metadata": {
    "papermill": {
     "duration": 0.014857,
     "end_time": "2024-06-12T23:04:22.386002",
     "exception": false,
     "start_time": "2024-06-12T23:04:22.371145",
     "status": "completed"
    },
    "tags": []
   },
   "source": [
    "### Outlook\n",
    "\n",
    "Creating your own DSL from scratch will probably not be easy and may not be desired or needed in the first place. There are at least two open-source DSLs for ARC, for example [Johan's DSL](https://github.com/top-quarks/ARC-solution) which he also used to win the first ARC-competition in 2020 with 20.6% by having efficient implementations and simple primitive signatures rendering a large-scale search feasible. Alternatively, I have built a separate, less minimal [ARC-DSL](https://github.com/michaelhodel/arc-dsl) that comes alongside reference [solution programs for all 400 ARC training tasks](https://github.com/michaelhodel/arc-dsl/blob/main/solvers.py) and which was also used for more recent program synthesis approaches such as [CodeIt](https://arxiv.org/pdf/2402.04858) that may be useful, even if just as inspiration. However, not following other's footsteps can also have benefits, such as not having to work with something that may be suboptimal for the desired approach at hand and by that getting stuck in a local minimum, and maybe a more adequate DSL for ARC is yet to be created, maybe by you!\n",
    "\n",
    "And, of course, using a DSL and searching over it is by no means the only way or all there is to ARC. Arguably, much work is yet to be done, and novelty and diversity in approaches seem in dire need to make progress on the benchmark, and with that hopefully ultimaltely towards much more advanced AI.\n",
    "\n",
    "Happy ARC-ing and good luck with the ARC-prize!"
   ]
  },
  {
   "cell_type": "code",
   "execution_count": 14,
   "id": "f8874d99",
   "metadata": {
    "papermill": {
     "duration": 6.221154,
     "end_time": "2024-06-12T23:04:28.622346",
     "exception": false,
     "start_time": "2024-06-12T23:04:22.401192",
     "status": "completed"
    },
    "tags": []
   },
   "outputs": [
    {
     "name": "stderr",
     "output_type": "stream",
     "text": [
      " 33%|██████████████████████████▋                                                      | 33/100 [00:01<00:02, 29.69it/s]"
     ]
    },
    {
     "name": "stdout",
     "output_type": "stream",
     "text": [
      "found 11 candidate programs for task 1cf80156!\n"
     ]
    },
    {
     "name": "stderr",
     "output_type": "stream",
     "text": [
      "100%|████████████████████████████████████████████████████████████████████████████████| 100/100 [00:03<00:00, 26.91it/s]"
     ]
    },
    {
     "name": "stdout",
     "output_type": "stream",
     "text": [
      "\n",
      "Made guesses for 4 tasks\n"
     ]
    },
    {
     "name": "stderr",
     "output_type": "stream",
     "text": [
      "\n"
     ]
    }
   ],
   "source": [
    "# let's try to make a submission\n",
    "\n",
    "submission = dict()\n",
    "# iterate over all tasks\n",
    "for key, task in tqdm.tqdm(test_challenges.items()):\n",
    "    train_inputs = [example['input'] for example in task['train']]\n",
    "    train_outputs = [example['output'] for example in task['train']]\n",
    "    hypotheses = []\n",
    "    # iterate over all programs\n",
    "    for program_string, program in programs.items():\n",
    "        try:\n",
    "            if all([program(i) == o for i, o in zip(train_inputs, train_outputs)]):\n",
    "                # remember program if it explains all training examples\n",
    "                hypotheses.append(program_string)\n",
    "        except:\n",
    "            pass\n",
    "    # select first program for making predictions\n",
    "    predictions = [example['input'] for example in task['test']]\n",
    "    if len(hypotheses) > 0:\n",
    "        print(f'found {len(hypotheses)} candidate programs for task {key}!')\n",
    "        program_string = hypotheses[0]\n",
    "        program = eval(program_string)\n",
    "        try:\n",
    "            predictions = [program(example['input']) for example in task['test']]\n",
    "        except:\n",
    "            pass\n",
    "    submission[key] = [{'attempt_1': grid, 'attempt_2': grid} for grid in predictions]\n",
    "print(f'\\nMade guesses for {len(guesses)} tasks')\n",
    "\n",
    "with open('submission.json', 'w') as fp:\n",
    "    json.dump(submission, fp)"
   ]
  },
  {
   "cell_type": "code",
   "execution_count": null,
   "id": "c826fc4a-cd20-45b9-ab0e-1d733a263e4c",
   "metadata": {},
   "outputs": [],
   "source": []
  }
 ],
 "metadata": {
  "kaggle": {
   "accelerator": "none",
   "dataSources": [
    {
     "databundleVersionId": 8810484,
     "sourceId": 67357,
     "sourceType": "competition"
    }
   ],
   "dockerImageVersionId": 30732,
   "isGpuEnabled": false,
   "isInternetEnabled": false,
   "language": "python",
   "sourceType": "notebook"
  },
  "kernelspec": {
   "display_name": "Python 3 (ipykernel)",
   "language": "python",
   "name": "python3"
  },
  "language_info": {
   "codemirror_mode": {
    "name": "ipython",
    "version": 3
   },
   "file_extension": ".py",
   "mimetype": "text/x-python",
   "name": "python",
   "nbconvert_exporter": "python",
   "pygments_lexer": "ipython3",
   "version": "3.8.18"
  },
  "papermill": {
   "default_parameters": {},
   "duration": 33.972721,
   "end_time": "2024-06-12T23:04:28.959025",
   "environment_variables": {},
   "exception": null,
   "input_path": "__notebook__.ipynb",
   "output_path": "__notebook__.ipynb",
   "parameters": {},
   "start_time": "2024-06-12T23:03:54.986304",
   "version": "2.5.0"
  }
 },
 "nbformat": 4,
 "nbformat_minor": 5
}
